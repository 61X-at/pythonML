{
  "cells": [
    {
      "cell_type": "markdown",
      "metadata": {
        "id": "M-DGa20PaHnu"
      },
      "source": [
        "#Задача 1\n",
        "Написать функцию на вход которой подается строка, состоящая из латинских букв.\n",
        "Функция должна вернуть количество гласных букв (a, e, i, o, u) в этой строке. Написать тесты для кода"
      ]
    },
    {
      "cell_type": "code",
      "execution_count": 24,
      "metadata": {
        "id": "XvX8X_JJ6PCb"
      },
      "outputs": [],
      "source": [
        "def countOfVowels(string):\n",
        "    vowels = ['a', 'e', 'u', 'i', 'o']\n",
        "    count = 0\n",
        "\n",
        "    for letter in string:\n",
        "        if letter in vowels:\n",
        "            count += 1\n",
        "\n",
        "    return count\n",
        "\n",
        "\n",
        "assert countOfVowels('string') == 1\n",
        "assert countOfVowels('abcde') == 2\n",
        "assert countOfVowels('aeuio') == 5\n",
        "assert countOfVowels('aeubbbioaeu') == 8\n"
      ]
    },
    {
      "cell_type": "markdown",
      "metadata": {
        "id": "t2ClV_Y0bbr6"
      },
      "source": [
        "# Задача 2\n",
        "Написать функцию на вход, которой подается строка. Функция должна вернуть true, если\n",
        "каждый символ в строке встречается только 1 раз, иначе должна вернуть false. Написать тесты для кода"
      ]
    },
    {
      "cell_type": "code",
      "execution_count": 28,
      "metadata": {
        "id": "FppbECao6VIz"
      },
      "outputs": [],
      "source": [
        "def isUniqueString(string):\n",
        "    return len(string) == len(set(string))\n",
        "\n",
        "assert isUniqueString('string') == True\n",
        "assert isUniqueString('ssd') == False\n",
        "assert isUniqueString('ssbbfff') == False\n",
        "assert isUniqueString('abcdaa') == False\n",
        "assert isUniqueString('Andrew') == True"
      ]
    },
    {
      "cell_type": "markdown",
      "metadata": {
        "id": "udRiIK1cdt6E"
      },
      "source": [
        "# Задача 3\n",
        "Написать функцию, которая принимает положительное число и возвращает количество\n",
        "бит равных 1 в этом числе. Написать тесты для кода"
      ]
    },
    {
      "cell_type": "code",
      "execution_count": 42,
      "metadata": {
        "id": "6tkfDJRz6dp_"
      },
      "outputs": [],
      "source": [
        "def countBits(n):\n",
        "    count = 0\n",
        "    while n:\n",
        "        n &= n - 1\n",
        "        count += 1\n",
        "    return count\n",
        "\n",
        "assert countBits(31) == 5\n",
        "assert countBits(24) == 2\n",
        "assert countBits(7) == 3\n",
        "assert countBits(1) == 1"
      ]
    },
    {
      "cell_type": "markdown",
      "metadata": {
        "id": "26dDUz-Ae17N"
      },
      "source": [
        "# Задача 4\n",
        "Написать функцию, которая принимает положительное число. Функция должна вернуть то,\n",
        "сколько раз необходимо перемножать цифры числа или результат перемножения, чтобы\n",
        "получилось число состоящее из одной цифры.\n",
        "Например, для входного числа:\n",
        "· 39 функция должна вернуть 3, так как 3*9=27 => 2*7=14 => 1*4=4\n",
        "· 4 функция должна вернуть 0, так как число уже состоит из одной цифры\n",
        "· 999 функция должна вернуть 4, так как 9*9*9=729 => 7*2*9=126 => 1*2*6=12 =>\n",
        "1*2=2. Написать тесты для кода"
      ]
    },
    {
      "cell_type": "code",
      "execution_count": 53,
      "metadata": {
        "id": "BH1A_Mgi6i4G"
      },
      "outputs": [],
      "source": [
        "def magic(n):\n",
        "    count = 0\n",
        "\n",
        "    while n > 9:\n",
        "        temp = 1\n",
        "        for num in str(n):\n",
        "            temp *= int(num)\n",
        "        n = temp\n",
        "        count += 1\n",
        "    \n",
        "    return count\n",
        "\n",
        "assert magic(39) == 3\n",
        "assert magic(999) == 4"
      ]
    },
    {
      "cell_type": "markdown",
      "metadata": {
        "id": "0nS-kIa8g8vd"
      },
      "source": [
        "# Задача 5\n",
        "Написать функцию, которая принимает два целочисленных вектора одинаковой длины и\n",
        "возвращает среднеквадратическое отклонение двух векторов. Написать тесты для кода"
      ]
    },
    {
      "cell_type": "code",
      "execution_count": 70,
      "metadata": {
        "id": "8iphx4LM6xbx"
      },
      "outputs": [],
      "source": [
        "def mse(pred, true):\n",
        "    n = len(pred)\n",
        "    sum_squared_differences = 0\n",
        "    for i in range(n):\n",
        "        sum_squared_differences += (pred[i] - true[i])**2\n",
        "    return sum_squared_differences / n\n",
        "\n",
        "assert mse([1, 2, 3], [1, 2, 3]) == 0\n",
        "assert mse([1, 2, 3], [4, 5, 6]) == 9\n",
        "assert mse([1, 2, 3], [2, 3, 4]) == 1"
      ]
    },
    {
      "cell_type": "markdown",
      "metadata": {
        "id": "vpIPKL439zkw"
      },
      "source": [
        "# Задача 6\n",
        "Написать функцию, принимающая целое положительное число. Функция должна вернуть\n",
        "строку вида “(n1**p1)(n2**p2)…(nk**pk)” представляющая разложение числа на простые\n",
        "множители (если pi == 1, то выводить только ni).\n",
        "Например, для числа 86240 функция должна вернуть “(2**5)(5)(7**2)(11)”. Написать тесты для кода"
      ]
    },
    {
      "cell_type": "code",
      "execution_count": 7,
      "metadata": {
        "id": "pFebmcZk94Jw"
      },
      "outputs": [],
      "source": [
        "from collections import Counter\n",
        "\n",
        "\n",
        "def decomposeIntoPrimeFactors(n):\n",
        "    primeFactors = []\n",
        "    i = 2\n",
        "    while i * i <= n:\n",
        "        if n % i == 0:\n",
        "            n //= i\n",
        "            primeFactors.append(i)\n",
        "        else:\n",
        "            i += 1\n",
        "\n",
        "    if n > 1:\n",
        "        primeFactors.append(n)\n",
        "    \n",
        "    return primeFactors\n",
        "\n",
        "def getPrimeFactorsOfNumber(n):\n",
        "    result = []\n",
        "    primeFactors = Counter(decomposeIntoPrimeFactors(n))\n",
        "\n",
        "    for primeFactor, power in primeFactors.items():\n",
        "        result.append(f'({primeFactor})' if power == 1 else f'({primeFactor}**{power})')\n",
        "\n",
        "    return ''.join(result)\n",
        "\n",
        "assert getPrimeFactorsOfNumber(100) == \"(2**2)(5**2)\"\n",
        "assert getPrimeFactorsOfNumber(86240) == \"(2**5)(5)(7**2)(11)\"\n",
        "assert getPrimeFactorsOfNumber(29) == \"(29)\"\n",
        "assert getPrimeFactorsOfNumber(39) == \"(3)(13)\"\n"
      ]
    },
    {
      "cell_type": "markdown",
      "metadata": {
        "id": "ps2s0BudX7A2"
      },
      "source": [
        "# Задача 7\n",
        "Написать функцию, принимающая целое число n, задающее количество кубиков. Функция\n",
        "должна определить, можно ли из данного кол-ва кубиков построить пирамиду, то есть\n",
        "можно ли представить число n как 1^2+2^2+3^2+…+k^2. Если можно, то функция должна\n",
        "вернуть k, иначе строку “It is impossible”. Написать тесты для кода"
      ]
    },
    {
      "cell_type": "code",
      "execution_count": 16,
      "metadata": {
        "id": "3YPjEXxhX_YT"
      },
      "outputs": [],
      "source": [
        "def pyramid(number):\n",
        "    i = 1\n",
        "\n",
        "    while number > 0:\n",
        "        number -= i * i\n",
        "        if number > 0:\n",
        "            i += 1\n",
        "\n",
        "    if number == 0:\n",
        "        return i\n",
        "    \n",
        "    return 'It is impossible'\n",
        "\n",
        "assert pyramid(1) == 1\n",
        "assert pyramid(5) == 2\n",
        "assert pyramid(14) == 3\n",
        "assert pyramid(30) == 4\n",
        "assert pyramid(55) == 5\n",
        "assert pyramid(3) == \"It is impossible\"\n",
        "assert pyramid(33) == \"It is impossible\"\n",
        "assert pyramid(333) == \"It is impossible\""
      ]
    },
    {
      "cell_type": "markdown",
      "metadata": {
        "id": "KeKgmIdAQMEJ"
      },
      "source": [
        "# Задача 8\n",
        "Функция принимает на вход положительное число и определяет является ли оно сбалансированным, т.е. сумма цифр до средних равна сумме цифр после. Средними в случае нечетного числа цифр считать одну цифру, в случае четного - две средних. Написать тесты для кода"
      ]
    },
    {
      "cell_type": "code",
      "execution_count": 40,
      "metadata": {
        "id": "gMAAqtqlQrZt"
      },
      "outputs": [],
      "source": [
        "def isBalancedNumber(n):\n",
        "    n = str(n)\n",
        "    length = len(n)\n",
        "    leftSum = 0\n",
        "    rightSum = 0\n",
        "\n",
        "    if length % 2:\n",
        "          end = length // 2\n",
        "    else:\n",
        "          end = length // 2 - 1\n",
        "\n",
        "    for i in range(end):\n",
        "            leftSum += int(n[i])\n",
        "            rightSum += int(n[- (i + 1)])\n",
        "\n",
        "    return leftSum == rightSum\n",
        "\n",
        "assert isBalancedNumber(111)\n",
        "assert isBalancedNumber(131)\n",
        "assert isBalancedNumber(112320)\n",
        "assert isBalancedNumber(1331)\n",
        "assert not isBalancedNumber(90391)"
      ]
    }
  ],
  "metadata": {
    "colab": {
      "provenance": []
    },
    "kernelspec": {
      "display_name": "Python 3",
      "name": "python3"
    },
    "language_info": {
      "codemirror_mode": {
        "name": "ipython",
        "version": 3
      },
      "file_extension": ".py",
      "mimetype": "text/x-python",
      "name": "python",
      "nbconvert_exporter": "python",
      "pygments_lexer": "ipython3",
      "version": "3.11.4"
    }
  },
  "nbformat": 4,
  "nbformat_minor": 0
}
